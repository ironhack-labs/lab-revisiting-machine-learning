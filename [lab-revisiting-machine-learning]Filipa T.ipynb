{
 "cells": [
  {
   "cell_type": "code",
   "execution_count": null,
   "id": "b9682ab7",
   "metadata": {},
   "outputs": [],
   "source": [
    "'''# Lab | Revisiting Machine Learning Case Study\n",
    "\n",
    "- In this lab, you will use `learningSet.csv` file which you already have cloned in today's activities. \n",
    "\n",
    "### Instructions\n",
    "\n",
    "Complete the following steps on the categorical columns in the dataset:\n",
    "\n",
    "- Check for null values in all the columns\n",
    "- Exclude the following variables by looking at the definitions. Create a new empty list called `drop_list`.\n",
    "We will append this list and then drop all the columns in this list later:\n",
    "    - `OSOURCE` - symbol definitions not provided, too many categories\n",
    "    - `ZIP CODE` - we are including state already\n",
    "- Identify columns that over 25% missing values\n",
    "- Remove those columns from the dataframe\n",
    "- Reduce the number of categories in the column `GENDER`. \n",
    "The column should only have either \"M\" for males, \"F\" for females, and \"other\" for all the rest\n",
    "    - Note that there are a few null values in the column. We will first replace those null values using the code below:\n",
    "\n",
    "    ```python\n",
    "    print(categorical['GENDER'].value_counts())\n",
    "    categorical['GENDER'] = categorical['GENDER'].fillna('F')\n",
    "    ```'''"
   ]
  },
  {
   "cell_type": "code",
   "execution_count": 3,
   "id": "b3a466f0",
   "metadata": {},
   "outputs": [],
   "source": [
    "# Pandas\n",
    "import pandas as pd\n",
    "\n",
    "# Numpy\n",
    "import numpy as np\n",
    "\n",
    "# Remove warnings\n",
    "\n",
    "import warnings\n",
    "warnings.filterwarnings('ignore')\n",
    "\n"
   ]
  },
  {
   "cell_type": "code",
   "execution_count": 4,
   "id": "4431626a",
   "metadata": {},
   "outputs": [],
   "source": [
    "data = pd.read_csv(r\"C:\\Users\\filip\\OneDrive\\Desktop\\IRONHACK\\Week13\\learningSet.txt\")\n",
    "\n",
    "# Standardizing column names\n",
    "\n",
    "cols = []\n",
    "for i in range(len(data.columns)): \n",
    "    cols.append(data.columns[i].lower().replace(' ', '_')) \n",
    "data.columns = cols"
   ]
  },
  {
   "cell_type": "code",
   "execution_count": 11,
   "id": "8132df89",
   "metadata": {},
   "outputs": [
    {
     "data": {
      "text/plain": [
       "odatedw       0\n",
       "osource       0\n",
       "tcode         0\n",
       "state         0\n",
       "zip           0\n",
       "           ... \n",
       "mdmaud_r      0\n",
       "mdmaud_f      0\n",
       "mdmaud_a      0\n",
       "cluster2    132\n",
       "geocode2    132\n",
       "Length: 481, dtype: int64"
      ]
     },
     "execution_count": 11,
     "metadata": {},
     "output_type": "execute_result"
    }
   ],
   "source": [
    "# Checking for null values\n",
    "\n",
    "data.isna().sum()"
   ]
  },
  {
   "cell_type": "code",
   "execution_count": null,
   "id": "6d07ac19",
   "metadata": {},
   "outputs": [],
   "source": [
    "# Dealing with sparcity (nulls)\n",
    "\n",
    "null_percent_df = data.isna().sum()\n",
    "null_percent_df\n",
    "\n",
    "# Percentage missing\n",
    "\n",
    "null_percent_df = data.isna().sum()/len(data)\n",
    "null_percent_df\n",
    "\n",
    "\n",
    "# Put it into a dataframe\n",
    "\n",
    "null_percent_df = pd.DataFrame(data.isna().sum()/len(data))\n",
    "null_percent_df\n",
    "\n",
    "# Take index out\n",
    "\n",
    "null_percent_df = pd.DataFrame(data.isna().sum()/len(data)).reset_index()\n",
    "null_percent_df\n",
    "\n",
    "# Change column names\n",
    "\n",
    "null_percent_df.columns = ('columns_name', 'nulls_percentage')\n",
    "null_percent_df\n",
    "\n",
    "# Being picky\n",
    "\n",
    "null_percent_df.sort_values(by = ['nulls_percentage'], ascending = False)"
   ]
  },
  {
   "cell_type": "code",
   "execution_count": null,
   "id": "49a5c442",
   "metadata": {},
   "outputs": [],
   "source": [
    "# Identify columns that over 25% missing values\n",
    "# Creating a variable with the threshold\n",
    "\n",
    "threshold = 0.25\n",
    "\n",
    "# Defining the condition\n",
    "\n",
    "condition = null_percent_df['nulls_percentage'] > threshold\n",
    "columns_above_threshold = null_percent_df[condition]\n",
    "columns_above_threshold\n",
    "\n",
    "# Create a list with column names\n",
    "\n",
    "additional_columns = ['osource', 'zip']\n",
    "\n",
    "drop_list = list(columns_above_threshold['columns_name']) + additional_columns\n",
    "drop_list"
   ]
  },
  {
   "cell_type": "code",
   "execution_count": null,
   "id": "e42bdcd4",
   "metadata": {},
   "outputs": [],
   "source": [
    "data.drop(drop_list, axis = 1, inplace = True)\n",
    "data"
   ]
  },
  {
   "cell_type": "code",
   "execution_count": null,
   "id": "5e2296d0",
   "metadata": {},
   "outputs": [],
   "source": [
    "data['gender'].unique()"
   ]
  },
  {
   "cell_type": "code",
   "execution_count": null,
   "id": "725f0273",
   "metadata": {},
   "outputs": [],
   "source": [
    "data['gender'].isna().sum()\n",
    "\n",
    "# The null values are actually a space not null values"
   ]
  },
  {
   "cell_type": "code",
   "execution_count": 10,
   "id": "d4081eb7",
   "metadata": {},
   "outputs": [
    {
     "name": "stdout",
     "output_type": "stream",
     "text": [
      "F        51277\n",
      "M        39094\n",
      "other     5041\n",
      "Name: gender, dtype: int64\n"
     ]
    }
   ],
   "source": [
    "# Making the space null values\n",
    "\n",
    "data['gender'] = data['gender'].replace(' ', np.nan)\n",
    "\n",
    "# Assigning the values to the right category\n",
    "\n",
    "data['gender'] = data['gender'].replace(np.nan, 'other')\n",
    "\n",
    "data['gender'] = data['gender'].replace({'C': 'other', 'U': 'other', 'J': 'other', 'A': 'other'})\n",
    "print(data['gender'].value_counts())\n",
    "\n"
   ]
  },
  {
   "cell_type": "code",
   "execution_count": null,
   "id": "10da68cd",
   "metadata": {},
   "outputs": [],
   "source": []
  },
  {
   "cell_type": "code",
   "execution_count": null,
   "id": "3ac56d7b",
   "metadata": {},
   "outputs": [],
   "source": []
  },
  {
   "cell_type": "code",
   "execution_count": null,
   "id": "ede2ab9f",
   "metadata": {},
   "outputs": [],
   "source": []
  },
  {
   "cell_type": "code",
   "execution_count": null,
   "id": "24ad1d08",
   "metadata": {},
   "outputs": [],
   "source": []
  },
  {
   "cell_type": "code",
   "execution_count": null,
   "id": "851f731f",
   "metadata": {},
   "outputs": [],
   "source": []
  },
  {
   "cell_type": "code",
   "execution_count": null,
   "id": "bb62bf70",
   "metadata": {},
   "outputs": [],
   "source": []
  },
  {
   "cell_type": "code",
   "execution_count": null,
   "id": "501dccfe",
   "metadata": {},
   "outputs": [],
   "source": []
  },
  {
   "cell_type": "code",
   "execution_count": null,
   "id": "8358437a",
   "metadata": {},
   "outputs": [],
   "source": []
  }
 ],
 "metadata": {
  "kernelspec": {
   "display_name": "Python 3 (ipykernel)",
   "language": "python",
   "name": "python3"
  },
  "language_info": {
   "codemirror_mode": {
    "name": "ipython",
    "version": 3
   },
   "file_extension": ".py",
   "mimetype": "text/x-python",
   "name": "python",
   "nbconvert_exporter": "python",
   "pygments_lexer": "ipython3",
   "version": "3.9.13"
  }
 },
 "nbformat": 4,
 "nbformat_minor": 5
}
