{
 "cells": [
  {
   "cell_type": "code",
   "execution_count": 1,
   "metadata": {},
   "outputs": [],
   "source": [
    "import pandas as pd"
   ]
  },
  {
   "cell_type": "code",
   "execution_count": 3,
   "metadata": {},
   "outputs": [
    {
     "name": "stderr",
     "output_type": "stream",
     "text": [
      "/var/folders/57/4_7_gvfx4rd62jd_bgj3100m0000gn/T/ipykernel_7385/3830976392.py:1: DtypeWarning: Columns (8) have mixed types. Specify dtype option on import or set low_memory=False.\n",
      "  data = pd.read_csv('learningSet.csv')\n"
     ]
    }
   ],
   "source": [
    "data = pd.read_csv('learningSet.csv')\n"
   ]
  },
  {
   "cell_type": "code",
   "execution_count": 4,
   "metadata": {},
   "outputs": [
    {
     "name": "stderr",
     "output_type": "stream",
     "text": [
      "/var/folders/57/4_7_gvfx4rd62jd_bgj3100m0000gn/T/ipykernel_7385/2141056307.py:2: DeprecationWarning: `np.object` is a deprecated alias for the builtin `object`. To silence this warning, use `object` by itself. Doing this will not modify any behavior and is safe. \n",
      "Deprecated in NumPy 1.20; for more details and guidance: https://numpy.org/devdocs/release/1.20.0-notes.html#deprecations\n",
      "  categorical = data.select_dtypes(np.object)\n"
     ]
    }
   ],
   "source": [
    "import numpy as np\n",
    "categorical = data.select_dtypes(np.object)"
   ]
  },
  {
   "cell_type": "code",
   "execution_count": 5,
   "metadata": {},
   "outputs": [
    {
     "data": {
      "text/plain": [
       "nulls_percentage\n",
       "0.000000            389\n",
       "0.553955             13\n",
       "0.001383              5\n",
       "0.999906              2\n",
       "0.845512              2\n",
       "0.717080              2\n",
       "0.730642              2\n",
       "0.755618              2\n",
       "0.774955              2\n",
       "0.781233              2\n",
       "0.792710              2\n",
       "0.814090              2\n",
       "0.824613              2\n",
       "0.833595              2\n",
       "0.871609              2\n",
       "0.890360              2\n",
       "0.900296              2\n",
       "0.901469              2\n",
       "0.906773              2\n",
       "0.917327              2\n",
       "0.917631              2\n",
       "0.104526              2\n",
       "0.923888              2\n",
       "0.991867              2\n",
       "0.997055              2\n",
       "0.997464              2\n",
       "0.589758              1\n",
       "0.870184              1\n",
       "0.686255              1\n",
       "0.020438              1\n",
       "0.022964              1\n",
       "0.526139              1\n",
       "0.036798              1\n",
       "0.037280              1\n",
       "0.093007              1\n",
       "0.093521              1\n",
       "0.109232              1\n",
       "0.117857              1\n",
       "0.197742              1\n",
       "0.213432              1\n",
       "0.222855              1\n",
       "0.223096              1\n",
       "0.248030              1\n",
       "0.256572              1\n",
       "0.268813              1\n",
       "0.289796              1\n",
       "0.343227              1\n",
       "0.352052              1\n",
       "0.369052              1\n",
       "0.387509              1\n",
       "0.421530              1\n",
       "0.459303              1\n",
       "0.468830              1\n",
       "0.554584              1\n",
       "dtype: int64"
      ]
     },
     "execution_count": 5,
     "metadata": {},
     "output_type": "execute_result"
    }
   ],
   "source": [
    "nulls_df = pd.DataFrame(data.isna().sum()/len(data))\n",
    "nulls_df.columns=['nulls_percentage']\n",
    "nulls_df.value_counts()\n"
   ]
  },
  {
   "cell_type": "code",
   "execution_count": 6,
   "metadata": {},
   "outputs": [
    {
     "data": {
      "text/plain": [
       "481"
      ]
     },
     "execution_count": 6,
     "metadata": {},
     "output_type": "execute_result"
    }
   ],
   "source": [
    "len(nulls_df)\n"
   ]
  },
  {
   "cell_type": "code",
   "execution_count": 7,
   "metadata": {},
   "outputs": [
    {
     "data": {
      "text/plain": [
       "['OSOURCE', 'ZIP CODE']"
      ]
     },
     "execution_count": 7,
     "metadata": {},
     "output_type": "execute_result"
    }
   ],
   "source": [
    "drop_list = []\n",
    "drop_list.append('OSOURCE')\n",
    "drop_list.append('ZIP CODE')\n",
    "drop_list"
   ]
  },
  {
   "cell_type": "code",
   "execution_count": 8,
   "metadata": {},
   "outputs": [
    {
     "data": {
      "text/plain": [
       "Index(['RDATE_5', 'RAMNT_5', 'RDATE_3', 'RAMNT_3', 'RDATE_4', 'RAMNT_4',\n",
       "       'RDATE_6', 'RAMNT_6', 'RAMNT_15', 'RDATE_15', 'RDATE_23', 'RAMNT_23',\n",
       "       'RDATE_20', 'RAMNT_20', 'RAMNT_7', 'RDATE_7', 'RDATE_17', 'RAMNT_17',\n",
       "       'RDATE_21', 'RAMNT_21', 'RDATE_10', 'RAMNT_10', 'RDATE_13', 'RAMNT_13',\n",
       "       'NUMCHLD'],\n",
       "      dtype='object')"
      ]
     },
     "execution_count": 8,
     "metadata": {},
     "output_type": "execute_result"
    }
   ],
   "source": [
    "drop_list = nulls_df[nulls_df['nulls_percentage']>.85].sort_values(by=['nulls_percentage'],ascending=False).index\n",
    "drop_list"
   ]
  },
  {
   "cell_type": "code",
   "execution_count": 9,
   "metadata": {},
   "outputs": [],
   "source": [
    "categorical = data.drop(columns=drop_list)\n"
   ]
  },
  {
   "cell_type": "code",
   "execution_count": 10,
   "metadata": {},
   "outputs": [
    {
     "data": {
      "text/plain": [
       "F    51277\n",
       "M    39094\n",
       "      2957\n",
       "U     1715\n",
       "J      365\n",
       "C        2\n",
       "A        2\n",
       "Name: GENDER, dtype: int64"
      ]
     },
     "execution_count": 10,
     "metadata": {},
     "output_type": "execute_result"
    }
   ],
   "source": [
    "categorical['GENDER'].value_counts()\n"
   ]
  },
  {
   "cell_type": "code",
   "execution_count": 11,
   "metadata": {},
   "outputs": [
    {
     "name": "stdout",
     "output_type": "stream",
     "text": [
      "F    51277\n",
      "M    39094\n",
      "      2957\n",
      "U     1715\n",
      "J      365\n",
      "C        2\n",
      "A        2\n",
      "Name: GENDER, dtype: int64\n"
     ]
    }
   ],
   "source": [
    "print(categorical['GENDER'].value_counts())\n",
    "categorical['GENDER'] = categorical['GENDER'].fillna('F')"
   ]
  },
  {
   "cell_type": "code",
   "execution_count": 12,
   "metadata": {},
   "outputs": [],
   "source": [
    "categorical['GENDER'] = categorical['GENDER'].replace(\" \",\"OTHER\")\n",
    "categorical['GENDER'] = categorical['GENDER'].replace(\"U\",\"OTHER\")\n",
    "categorical['GENDER'] = categorical['GENDER'].replace(\"J\",\"OTHER\")\n",
    "categorical['GENDER'] = categorical['GENDER'].replace(\"C\",\"OTHER\")\n",
    "categorical['GENDER'] = categorical['GENDER'].replace(\"A\",\"OTHER\")"
   ]
  },
  {
   "cell_type": "code",
   "execution_count": 13,
   "metadata": {},
   "outputs": [
    {
     "data": {
      "text/plain": [
       "F        51277\n",
       "M        39094\n",
       "OTHER     5041\n",
       "Name: GENDER, dtype: int64"
      ]
     },
     "execution_count": 13,
     "metadata": {},
     "output_type": "execute_result"
    }
   ],
   "source": [
    "categorical['GENDER'].value_counts()\n"
   ]
  },
  {
   "cell_type": "code",
   "execution_count": null,
   "metadata": {},
   "outputs": [],
   "source": []
  }
 ],
 "metadata": {
  "kernelspec": {
   "display_name": "base",
   "language": "python",
   "name": "python3"
  },
  "language_info": {
   "codemirror_mode": {
    "name": "ipython",
    "version": 3
   },
   "file_extension": ".py",
   "mimetype": "text/x-python",
   "name": "python",
   "nbconvert_exporter": "python",
   "pygments_lexer": "ipython3",
   "version": "3.9.12"
  },
  "orig_nbformat": 4,
  "vscode": {
   "interpreter": {
    "hash": "b6eefdfdaf961fc014a22513f67c1b2c066976fe7e86976f5328586044947a00"
   }
  }
 },
 "nbformat": 4,
 "nbformat_minor": 2
}
