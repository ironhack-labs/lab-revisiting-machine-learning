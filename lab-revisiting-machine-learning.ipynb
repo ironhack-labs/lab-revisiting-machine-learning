{
 "cells": [
  {
   "cell_type": "code",
   "execution_count": 1,
   "id": "8e239977",
   "metadata": {},
   "outputs": [],
   "source": [
    "import pandas as pd"
   ]
  },
  {
   "cell_type": "code",
   "execution_count": 2,
   "id": "51e308db",
   "metadata": {},
   "outputs": [
    {
     "name": "stderr",
     "output_type": "stream",
     "text": [
      "C:\\Users\\simoe\\AppData\\Local\\Temp\\ipykernel_26800\\3673836359.py:1: DtypeWarning: Columns (8) have mixed types. Specify dtype option on import or set low_memory=False.\n",
      "  data = pd.read_csv('learningSet.csv')\n"
     ]
    }
   ],
   "source": [
    "data = pd.read_csv('learningSet.csv')"
   ]
  },
  {
   "cell_type": "code",
   "execution_count": 3,
   "id": "47204288",
   "metadata": {},
   "outputs": [
    {
     "name": "stderr",
     "output_type": "stream",
     "text": [
      "C:\\Users\\simoe\\AppData\\Local\\Temp\\ipykernel_26800\\2141056307.py:2: DeprecationWarning: `np.object` is a deprecated alias for the builtin `object`. To silence this warning, use `object` by itself. Doing this will not modify any behavior and is safe. \n",
      "Deprecated in NumPy 1.20; for more details and guidance: https://numpy.org/devdocs/release/1.20.0-notes.html#deprecations\n",
      "  categorical = data.select_dtypes(np.object)\n"
     ]
    }
   ],
   "source": [
    "import numpy as np\n",
    "categorical = data.select_dtypes(np.object)"
   ]
  },
  {
   "cell_type": "markdown",
   "id": "ec8c608a",
   "metadata": {},
   "source": [
    "# 1. Check for null values in all the columns"
   ]
  },
  {
   "cell_type": "code",
   "execution_count": 4,
   "id": "8c02cdfe",
   "metadata": {},
   "outputs": [],
   "source": [
    "nulls_df = pd.DataFrame(data.isna().sum()/len(data))"
   ]
  },
  {
   "cell_type": "code",
   "execution_count": 5,
   "id": "e9a8fa30",
   "metadata": {},
   "outputs": [],
   "source": [
    "nulls_df.columns=['nulls_percentage']"
   ]
  },
  {
   "cell_type": "code",
   "execution_count": 6,
   "id": "b7a9c1f7",
   "metadata": {
    "scrolled": true
   },
   "outputs": [
    {
     "data": {
      "text/plain": [
       "nulls_percentage\n",
       "0.000000            389\n",
       "0.553955             13\n",
       "0.001383              5\n",
       "0.999906              2\n",
       "0.845512              2\n",
       "0.717080              2\n",
       "0.730642              2\n",
       "0.755618              2\n",
       "0.774955              2\n",
       "0.781233              2\n",
       "0.792710              2\n",
       "0.814090              2\n",
       "0.824613              2\n",
       "0.833595              2\n",
       "0.871609              2\n",
       "0.890360              2\n",
       "0.900296              2\n",
       "0.901469              2\n",
       "0.906773              2\n",
       "0.917327              2\n",
       "0.917631              2\n",
       "0.104526              2\n",
       "0.923888              2\n",
       "0.991867              2\n",
       "0.997055              2\n",
       "0.997464              2\n",
       "0.589758              1\n",
       "0.870184              1\n",
       "0.686255              1\n",
       "0.020438              1\n",
       "0.022964              1\n",
       "0.526139              1\n",
       "0.036798              1\n",
       "0.037280              1\n",
       "0.093007              1\n",
       "0.093521              1\n",
       "0.109232              1\n",
       "0.117857              1\n",
       "0.197742              1\n",
       "0.213432              1\n",
       "0.222855              1\n",
       "0.223096              1\n",
       "0.248030              1\n",
       "0.256572              1\n",
       "0.268813              1\n",
       "0.289796              1\n",
       "0.343227              1\n",
       "0.352052              1\n",
       "0.369052              1\n",
       "0.387509              1\n",
       "0.421530              1\n",
       "0.459303              1\n",
       "0.468830              1\n",
       "0.554584              1\n",
       "dtype: int64"
      ]
     },
     "execution_count": 6,
     "metadata": {},
     "output_type": "execute_result"
    }
   ],
   "source": [
    "nulls_df.value_counts()"
   ]
  },
  {
   "cell_type": "code",
   "execution_count": 7,
   "id": "ac3055c2",
   "metadata": {},
   "outputs": [
    {
     "data": {
      "text/plain": [
       "481"
      ]
     },
     "execution_count": 7,
     "metadata": {},
     "output_type": "execute_result"
    }
   ],
   "source": [
    "len(nulls_df)"
   ]
  },
  {
   "cell_type": "markdown",
   "id": "fe94e418",
   "metadata": {},
   "source": [
    "# 2. <p>Exclude the following variables by looking at the definitions. Create a new empty list called drop_list. We will append this list and then drop all the columns in this list later:\n",
    "<p>\n",
    "<p>OSOURCE - symbol definitions not provided, too many categories\n",
    "<p>ZIP CODE - we are including state already"
   ]
  },
  {
   "cell_type": "code",
   "execution_count": 8,
   "id": "86842d9f",
   "metadata": {},
   "outputs": [],
   "source": [
    "drop_list = []"
   ]
  },
  {
   "cell_type": "code",
   "execution_count": 9,
   "id": "fbfcf470",
   "metadata": {},
   "outputs": [],
   "source": [
    "drop_list.append('OSOURCE')\n",
    "drop_list.append('ZIP CODE')"
   ]
  },
  {
   "cell_type": "code",
   "execution_count": 10,
   "id": "bc1a563a",
   "metadata": {},
   "outputs": [
    {
     "data": {
      "text/plain": [
       "['OSOURCE', 'ZIP CODE']"
      ]
     },
     "execution_count": 10,
     "metadata": {},
     "output_type": "execute_result"
    }
   ],
   "source": [
    "drop_list"
   ]
  },
  {
   "cell_type": "markdown",
   "id": "29376886",
   "metadata": {},
   "source": [
    "# 3. Identify columns that over 85% missing values"
   ]
  },
  {
   "cell_type": "code",
   "execution_count": 11,
   "id": "b02c7971",
   "metadata": {},
   "outputs": [],
   "source": [
    "drop_list = nulls_df[nulls_df['nulls_percentage']>.85].sort_values(by=['nulls_percentage'],ascending=False).index"
   ]
  },
  {
   "cell_type": "code",
   "execution_count": 12,
   "id": "96b1f204",
   "metadata": {},
   "outputs": [
    {
     "data": {
      "text/plain": [
       "Index(['RDATE_5', 'RAMNT_5', 'RDATE_3', 'RAMNT_3', 'RDATE_4', 'RAMNT_4',\n",
       "       'RDATE_6', 'RAMNT_6', 'RAMNT_15', 'RDATE_15', 'RDATE_23', 'RAMNT_23',\n",
       "       'RDATE_20', 'RAMNT_20', 'RAMNT_7', 'RDATE_7', 'RDATE_17', 'RAMNT_17',\n",
       "       'RDATE_21', 'RAMNT_21', 'RDATE_10', 'RAMNT_10', 'RDATE_13', 'RAMNT_13',\n",
       "       'NUMCHLD'],\n",
       "      dtype='object')"
      ]
     },
     "execution_count": 12,
     "metadata": {},
     "output_type": "execute_result"
    }
   ],
   "source": [
    "drop_list"
   ]
  },
  {
   "cell_type": "markdown",
   "id": "514186b7",
   "metadata": {},
   "source": [
    "# 4. Remove those columns from the dataframe"
   ]
  },
  {
   "cell_type": "code",
   "execution_count": 13,
   "id": "93165105",
   "metadata": {},
   "outputs": [],
   "source": [
    "categorical = data.drop(columns=drop_list)"
   ]
  },
  {
   "cell_type": "markdown",
   "id": "346b045c",
   "metadata": {},
   "source": [
    "# 5. Reduce the number of categories in the column GENDER. The column should only have either \"M\" for males, \"F\" for females, and \"other\" for all the rest"
   ]
  },
  {
   "cell_type": "code",
   "execution_count": 14,
   "id": "69d73a10",
   "metadata": {},
   "outputs": [
    {
     "data": {
      "text/plain": [
       "F    51277\n",
       "M    39094\n",
       "      2957\n",
       "U     1715\n",
       "J      365\n",
       "C        2\n",
       "A        2\n",
       "Name: GENDER, dtype: int64"
      ]
     },
     "execution_count": 14,
     "metadata": {},
     "output_type": "execute_result"
    }
   ],
   "source": [
    "categorical['GENDER'].value_counts()"
   ]
  },
  {
   "cell_type": "code",
   "execution_count": 15,
   "id": "dc55f51b",
   "metadata": {},
   "outputs": [
    {
     "name": "stdout",
     "output_type": "stream",
     "text": [
      "F    51277\n",
      "M    39094\n",
      "      2957\n",
      "U     1715\n",
      "J      365\n",
      "C        2\n",
      "A        2\n",
      "Name: GENDER, dtype: int64\n"
     ]
    }
   ],
   "source": [
    "print(categorical['GENDER'].value_counts())\n",
    "categorical['GENDER'] = categorical['GENDER'].fillna('F')"
   ]
  },
  {
   "cell_type": "code",
   "execution_count": 16,
   "id": "04da4b74",
   "metadata": {},
   "outputs": [],
   "source": [
    "categorical['GENDER'] = categorical['GENDER'].replace(\" \",\"OTHER\")\n",
    "categorical['GENDER'] = categorical['GENDER'].replace(\"U\",\"OTHER\")\n",
    "categorical['GENDER'] = categorical['GENDER'].replace(\"J\",\"OTHER\")\n",
    "categorical['GENDER'] = categorical['GENDER'].replace(\"C\",\"OTHER\")\n",
    "categorical['GENDER'] = categorical['GENDER'].replace(\"A\",\"OTHER\")"
   ]
  },
  {
   "cell_type": "code",
   "execution_count": 17,
   "id": "0a1ca581",
   "metadata": {},
   "outputs": [
    {
     "data": {
      "text/plain": [
       "F        51277\n",
       "M        39094\n",
       "OTHER     5041\n",
       "Name: GENDER, dtype: int64"
      ]
     },
     "execution_count": 17,
     "metadata": {},
     "output_type": "execute_result"
    }
   ],
   "source": [
    "categorical['GENDER'].value_counts()"
   ]
  }
 ],
 "metadata": {
  "kernelspec": {
   "display_name": "Python 3 (ipykernel)",
   "language": "python",
   "name": "python3"
  },
  "language_info": {
   "codemirror_mode": {
    "name": "ipython",
    "version": 3
   },
   "file_extension": ".py",
   "mimetype": "text/x-python",
   "name": "python",
   "nbconvert_exporter": "python",
   "pygments_lexer": "ipython3",
   "version": "3.9.13"
  }
 },
 "nbformat": 4,
 "nbformat_minor": 5
}
