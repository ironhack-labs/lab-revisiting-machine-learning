{
 "cells": [
  {
   "cell_type": "code",
   "execution_count": 1,
   "id": "1fe9073a",
   "metadata": {},
   "outputs": [],
   "source": [
    "import pandas as pd\n",
    "import numpy as np"
   ]
  },
  {
   "cell_type": "code",
   "execution_count": 2,
   "id": "769be543",
   "metadata": {},
   "outputs": [],
   "source": [
    "#1Check for null values in all the columns\n",
    "\n"
   ]
  },
  {
   "cell_type": "code",
   "execution_count": null,
   "id": "f315424f",
   "metadata": {},
   "outputs": [],
   "source": [
    "#2Exclude the following variables by looking at the definitions. Create a new empty list called drop_list. \n",
    "    #We will append this list and then drop all the columns in this list later:\n",
    "\n",
    "#OSOURCE - symbol definitions not provided, too many categories\n",
    "#ZIP CODE - we are including state already\n",
    "#Identify columns that over 85% missing values\n",
    "\n",
    "#Remove those columns from the dataframe\n",
    "\n",
    "#Reduce the number of categories in the column GENDER. The column should only have either \"M\" for males, \"F\" for females, and \"other\" for all the rest\n",
    "\n",
    "#Note that there are a few null values in the column. \n",
    "#We will first replace those null values using the code below:\n",
    "    #print(categorical['GENDER'].value_counts())\n",
    "    #categorical['GENDER'] = categorical['GENDER'].fillna('F')"
   ]
  },
  {
   "cell_type": "code",
   "execution_count": null,
   "id": "746d8be5",
   "metadata": {},
   "outputs": [],
   "source": []
  },
  {
   "cell_type": "code",
   "execution_count": null,
   "id": "3ff37ecc",
   "metadata": {},
   "outputs": [],
   "source": []
  }
 ],
 "metadata": {
  "kernelspec": {
   "display_name": "Python 3 (ipykernel)",
   "language": "python",
   "name": "python3"
  },
  "language_info": {
   "codemirror_mode": {
    "name": "ipython",
    "version": 3
   },
   "file_extension": ".py",
   "mimetype": "text/x-python",
   "name": "python",
   "nbconvert_exporter": "python",
   "pygments_lexer": "ipython3",
   "version": "3.9.13"
  }
 },
 "nbformat": 4,
 "nbformat_minor": 5
}
